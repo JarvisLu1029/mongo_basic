{
 "cells": [
  {
   "cell_type": "code",
   "execution_count": null,
   "metadata": {},
   "outputs": [],
   "source": [
    "import pymongo\n",
    "\n",
    "client = pymongo.MongoClient(\"\")\n",
    "db = client[\"\"]\n",
    "customer_collection = db[\"\"]\n"
   ]
  },
  {
   "cell_type": "code",
   "execution_count": null,
   "metadata": {},
   "outputs": [],
   "source": [
    "# 讀取 json 檔案並將資料存入 MongoDB\n",
    "\n"
   ]
  },
  {
   "cell_type": "code",
   "execution_count": null,
   "metadata": {},
   "outputs": [],
   "source": [
    "# 讀取 csv 並將資料存入 MongoDB\n",
    "\n",
    "\n"
   ]
  },
  {
   "cell_type": "code",
   "execution_count": 1,
   "metadata": {},
   "outputs": [],
   "source": [
    "# 查詢所有 customer 資料\n",
    "\n"
   ]
  },
  {
   "cell_type": "code",
   "execution_count": null,
   "metadata": {},
   "outputs": [],
   "source": [
    "# 找出 ProductName 為 iMac 的資料 只看五筆\n",
    "\n"
   ]
  },
  {
   "cell_type": "code",
   "execution_count": null,
   "metadata": {},
   "outputs": [],
   "source": [
    "# 只顯示特定欄位\n",
    "\n"
   ]
  },
  {
   "cell_type": "code",
   "execution_count": null,
   "metadata": {},
   "outputs": [],
   "source": [
    "# 查詢 2020 年購買的資料\n",
    "\n"
   ]
  },
  {
   "cell_type": "code",
   "execution_count": null,
   "metadata": {},
   "outputs": [],
   "source": [
    "# 查詢所有 Pro 產品的資料\n",
    "\n"
   ]
  },
  {
   "cell_type": "code",
   "execution_count": null,
   "metadata": {},
   "outputs": [],
   "source": [
    "# 查詢有哪些不同的 ProductName\n",
    "# collection.distinct(<key>)\n",
    "\n"
   ]
  },
  {
   "cell_type": "code",
   "execution_count": null,
   "metadata": {},
   "outputs": [],
   "source": [
    "# 和 customer collection 做 join\n",
    "'''\n",
    "collection.aggregate([\n",
    "    {\n",
    "        \"$lookup\": {\n",
    "            \"from\": \"<target_collection>\",  # 目標集合名稱\n",
    "            \"localField\": \"<key>\",          # 當前集合中的欄位\n",
    "            \"foreignField\": \"<target_key>\", # 目標集合中的欄位\n",
    "            \"as\": \"<new_field_name>\",       # 合併後的欄位名稱\n",
    "        }   \n",
    "    },       \n",
    "])\n",
    "\n",
    "'''\n",
    "\n"
   ]
  },
  {
   "cell_type": "code",
   "execution_count": null,
   "metadata": {},
   "outputs": [],
   "source": [
    "# 查詢每個產品的銷售總金額\n",
    "# collection.aggregate([{\"$group\": {\"_id\": \"$<group_key>\", \"<new_key_name>\": {\"$sum\": \"$<sum_key>\"}}}])\n",
    "\n"
   ]
  },
  {
   "cell_type": "code",
   "execution_count": null,
   "metadata": {},
   "outputs": [],
   "source": [
    "# 查詢每年的銷售金額\n",
    "'''\n",
    "collection.aggregate([\n",
    "    {\n",
    "        \"$addFields\": {\n",
    "            \"<new_key_name>\": {\n",
    "                \"dateFromString\": {\n",
    "                    \"dateString\": \"$<date_key>\"\n",
    "                }\n",
    "            }\n",
    "        }\n",
    "    },\n",
    "    {\n",
    "        \"$group\": {\n",
    "            \"_id\": {\"$year\": \"$<new_key_name>\"},\n",
    "            \"<new_key_name>\": {\"$sum\": \"$<sum_key>\"}\n",
    "        }\n",
    "    },\n",
    "    {\n",
    "        \"$sort\": {\"_id\": 1}\n",
    "    }\n",
    "])\n",
    "'''\n",
    "\n"
   ]
  },
  {
   "cell_type": "markdown",
   "metadata": {},
   "source": [
    "---"
   ]
  },
  {
   "cell_type": "markdown",
   "metadata": {},
   "source": [
    "### 使用 bokeh 繪製圖表"
   ]
  },
  {
   "cell_type": "code",
   "execution_count": null,
   "metadata": {},
   "outputs": [],
   "source": [
    "# 安裝 bokeh\n",
    "%pip install bokeh"
   ]
  },
  {
   "cell_type": "code",
   "execution_count": null,
   "metadata": {},
   "outputs": [],
   "source": [
    "# 在 jupyter notebook 中使用 bokeh\n",
    "from bokeh.io import output_notebook"
   ]
  },
  {
   "cell_type": "code",
   "execution_count": null,
   "metadata": {},
   "outputs": [],
   "source": [
    "from bokeh.plotting import figure, show\n",
    "from bokeh.models import ColumnDataSource, HoverTool, NumeralTickFormatter\n",
    "\n",
    "# 設定 hover 工具提示\n",
    "source = ColumnDataSource(data={\n",
    "    'product': \"<X軸>\",\n",
    "    'total': \"<Y軸>\",\n",
    "})\n",
    "\n",
    "# 添加 HoverTool\n",
    "hover = HoverTool(\n",
    "    tooltips=[\n",
    "        (\"產品\", \"@product\"),\n",
    "        (\"銷售金額\", \"@total{0,0}\"),\n",
    "    ],\n",
    "    formatters={'total': 'numeral'},\n",
    ")\n",
    "\n",
    "# 創建柱狀圖\n",
    "p = figure(\n",
    "        x_range=\"<X軸範圍>\", \n",
    "        y_range=(0, max(\"<Y軸>\")),\n",
    "        title=\"消費數據\",\n",
    "        x_axis_label='類別', \n",
    "        y_axis_label='值', \n",
    "        height=350, \n",
    "        width=800, \n",
    "        tools=\"pan, wheel_zoom, box_zoom, reset, save\",  # 添加更多互動工具\n",
    "    )\n",
    "\n",
    "p.add_tools(hover)\n",
    "\n",
    "# 添加柱狀圖\n",
    "p.vbar(x='product', top='total', width=0.5, color=\"blue\", alpha=0.7, legend_label=\"消費金額\", source=source)\n",
    "\n",
    "# 使用 NumeralTickFormatter 格式化 y 軸\n",
    "p.yaxis.formatter = NumeralTickFormatter(format=\"0,0\")  # 格式化為千分位\n",
    "\n",
    "# 美化圖表\n",
    "p.legend.orientation = \"horizontal\"\n",
    "# p.legend.location = \"top_center\"\n",
    "\n",
    "\n",
    "# 顯示圖表\n",
    "show(p)\n"
   ]
  }
 ],
 "metadata": {
  "kernelspec": {
   "display_name": "ml_env",
   "language": "python",
   "name": "python3"
  },
  "language_info": {
   "codemirror_mode": {
    "name": "ipython",
    "version": 3
   },
   "file_extension": ".py",
   "mimetype": "text/x-python",
   "name": "python",
   "nbconvert_exporter": "python",
   "pygments_lexer": "ipython3",
   "version": "3.12.3"
  }
 },
 "nbformat": 4,
 "nbformat_minor": 2
}
