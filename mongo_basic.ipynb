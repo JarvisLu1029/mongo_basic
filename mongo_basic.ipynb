{
 "cells": [
  {
   "cell_type": "code",
   "execution_count": null,
   "metadata": {},
   "outputs": [],
   "source": [
    "# 安裝 pymongo\n"
   ]
  },
  {
   "cell_type": "code",
   "execution_count": 2,
   "metadata": {},
   "outputs": [],
   "source": [
    "import pymongo\n",
    "\n",
    "# 建立連線\n",
    "# client = pymongo.MongoClient(\"mongodb://<user>:<password>@<host>:<port>\")\n",
    "\n",
    "\n",
    "# 建立 / 選擇資料庫 \n",
    "# db = client[\"<database>\"]\n",
    "\n",
    "\n",
    "# 建立 / 選擇資料表\n",
    "# collection = db[\"<collection>\"]\n",
    "\n"
   ]
  },
  {
   "cell_type": "code",
   "execution_count": null,
   "metadata": {},
   "outputs": [],
   "source": [
    "user_info = {\n",
    "        \"name\": \"Kevin\",\n",
    "        \"age\": 25,\n",
    "        \"department\": \"BioInf\",  \n",
    "        \"phone\": [\"0912345678\"]\n",
    "    }\n",
    "\n",
    "# 新增一筆資料\n",
    "# collection.insert_one(<data>)\n",
    "\n"
   ]
  },
  {
   "cell_type": "code",
   "execution_count": null,
   "metadata": {},
   "outputs": [],
   "source": [
    "user_info_list = [\n",
    "    {\n",
    "        \"name\": \"Tom\",\n",
    "        \"age\": 26,\n",
    "        \"department\": \"BioInf\",\n",
    "        \"phone\": [\"0934345678\", \"22345678\"]\n",
    "    },\n",
    "    {\n",
    "        \"name\": \"Jerry\",\n",
    "        \"age\": 42,\n",
    "        \"department\": \"BioInf\",\n",
    "        \"phone\": [\"0987654321\"]\n",
    "    }\n",
    "]\n",
    "\n",
    "# 新增多筆資料\n",
    "# collection.insert_many(<data>)\n",
    "\n"
   ]
  },
  {
   "cell_type": "code",
   "execution_count": null,
   "metadata": {},
   "outputs": [],
   "source": [
    "# 查詢資料 (全部)\n",
    "# collection.find()\n",
    "\n"
   ]
  },
  {
   "cell_type": "code",
   "execution_count": null,
   "metadata": {},
   "outputs": [],
   "source": [
    "# 查詢資料 (條件)\n",
    "# collection.find({<key>: <value>})\n",
    "\n"
   ]
  },
  {
   "cell_type": "code",
   "execution_count": null,
   "metadata": {},
   "outputs": [],
   "source": [
    "# 查詢資料 (多條件)\n",
    "\n"
   ]
  },
  {
   "cell_type": "markdown",
   "metadata": {},
   "source": [
    "| 條件 | 不等於 | 等於 |小於 | 小於等於 | 大於 |大於等於|\n",
    "|:--:|:--:|:--:|:--:|:--:|:--:|:--:|\n",
    "| 符號 | `$ne` | `$eq` | `$lt` | `$lte` | `$gt` | `$gte` |"
   ]
  },
  {
   "cell_type": "code",
   "execution_count": null,
   "metadata": {},
   "outputs": [],
   "source": [
    "# 查詢某個範圍 - (age)\n",
    "\n"
   ]
  },
  {
   "attachments": {},
   "cell_type": "markdown",
   "metadata": {},
   "source": [
    "| 條件 | 更新 / 新增 | 新增資料 (結構要是`[]`) | 新增不重複資料 (結構要是`[]`) |\n",
    "|:--:|:--:|:--:|:--:|\n",
    "| 符號 | `$set` | `$push` | `$addToSet` |"
   ]
  },
  {
   "cell_type": "code",
   "execution_count": null,
   "metadata": {},
   "outputs": [],
   "source": [
    "# 更新資料\n",
    "# collection.update_one({<key>: <value>}, {$set: {<key>: <value>}})\n",
    "\n"
   ]
  },
  {
   "cell_type": "code",
   "execution_count": null,
   "metadata": {},
   "outputs": [],
   "source": [
    "# 模糊搜尋 - (department) \n",
    "# $regex\n",
    "\n"
   ]
  },
  {
   "cell_type": "code",
   "execution_count": null,
   "metadata": {},
   "outputs": [],
   "source": [
    "# 刪除資料\n",
    "# collection.delete_one({<key>: <value>})\n",
    "\n"
   ]
  },
  {
   "cell_type": "code",
   "execution_count": null,
   "metadata": {},
   "outputs": [],
   "source": [
    "# 刪除 collection\n",
    "# collection.drop()"
   ]
  },
  {
   "cell_type": "markdown",
   "metadata": {},
   "source": [
    "---"
   ]
  },
  {
   "cell_type": "markdown",
   "metadata": {},
   "source": [
    "### 避免資料重複的處理方式"
   ]
  },
  {
   "cell_type": "code",
   "execution_count": null,
   "metadata": {},
   "outputs": [],
   "source": [
    "user_info_list1 = [\n",
    "    {\n",
    "        \"name\": \"Tom\",\n",
    "        \"age\": 26,\n",
    "        \"department\": \"BioInf\",\n",
    "        \"phone\": [\"0934345678\", \"22345678\"]\n",
    "    },\n",
    "    {\n",
    "        \"name\": \"Jerry\",\n",
    "        \"age\": 42,\n",
    "        \"department\": \"BioInf\",\n",
    "        \"phone\": [\"0987654321\"]\n",
    "    }\n",
    "]\n",
    "\n",
    "user_info_list2 = [\n",
    "    {\n",
    "        \"name\": \"Alex\",\n",
    "        \"age\": 26,\n",
    "        \"department\": \"BioInf\",\n",
    "        \"phone\": [\"0934345678\", \"22345678\"]\n",
    "    },\n",
    "    {\n",
    "        \"name\": \"Mary\",\n",
    "        \"age\": 52,\n",
    "        \"department\": \"Account\",\n",
    "        \"phone\": [\"77812351\", \"0922312329\"]\n",
    "    },\n",
    "    {\n",
    "        \"name\": \"Jerry\",  # 重複的資料\n",
    "        \"age\": 42,\n",
    "        \"department\": \"BioInf\",\n",
    "        \"phone\": [\"0987654321\"]\n",
    "    }\n",
    "]"
   ]
  },
  {
   "cell_type": "code",
   "execution_count": null,
   "metadata": {},
   "outputs": [],
   "source": [
    "# 1. 使用 update_one + upsert=True  (upsert: 更新插入)\n",
    "'''\n",
    "collection.update_one(\n",
    "    {<key>: <value>},\n",
    "    {\"$set\": <data>},\n",
    "    upsert=True\n",
    ")\n",
    "'''\n",
    "\n",
    "\n",
    "\n"
   ]
  },
  {
   "cell_type": "code",
   "execution_count": null,
   "metadata": {},
   "outputs": [],
   "source": [
    "# 2. 建立唯一索引後寫入\n",
    "# collection.create_index(<key>, unique=True)\n",
    "\n"
   ]
  }
 ],
 "metadata": {
  "kernelspec": {
   "display_name": "ml_env",
   "language": "python",
   "name": "python3"
  },
  "language_info": {
   "codemirror_mode": {
    "name": "ipython",
    "version": 3
   },
   "file_extension": ".py",
   "mimetype": "text/x-python",
   "name": "python",
   "nbconvert_exporter": "python",
   "pygments_lexer": "ipython3",
   "version": "3.9.6"
  }
 },
 "nbformat": 4,
 "nbformat_minor": 2
}
