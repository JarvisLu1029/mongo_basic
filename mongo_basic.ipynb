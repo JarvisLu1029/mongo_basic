{
 "cells": [
  {
   "cell_type": "code",
   "execution_count": null,
   "metadata": {},
   "outputs": [],
   "source": [
    "# 安裝 pymongo\n"
   ]
  },
  {
   "cell_type": "code",
   "execution_count": null,
   "metadata": {},
   "outputs": [],
   "source": [
    "# 建立連線\n",
    "\n",
    "\n",
    "# 建立 / 選擇資料庫\n",
    "\n",
    "\n",
    "# 建立 / 選擇資料表\n",
    "\n"
   ]
  },
  {
   "cell_type": "code",
   "execution_count": null,
   "metadata": {},
   "outputs": [],
   "source": [
    "user_info = {\n",
    "        \"name\": \"Kevin\",\n",
    "        \"age\": 25,\n",
    "        \"department\": \"BioInf\",  \n",
    "        \"phone\": \"0912345678\"\n",
    "    }\n",
    "\n",
    "# 新增一筆資料\n",
    "\n"
   ]
  },
  {
   "cell_type": "code",
   "execution_count": null,
   "metadata": {},
   "outputs": [],
   "source": [
    "# 查詢資料 (全部)\n",
    "\n"
   ]
  },
  {
   "cell_type": "code",
   "execution_count": null,
   "metadata": {},
   "outputs": [],
   "source": [
    "# 查詢資料 (條件)\n",
    "\n"
   ]
  },
  {
   "cell_type": "code",
   "execution_count": null,
   "metadata": {},
   "outputs": [],
   "source": [
    "user_info_list = [\n",
    "    {\n",
    "        \"name\": \"Kevin\",\n",
    "        \"age\": 25,\n",
    "        \"department\": \"BioInf\",\n",
    "        \"phone\": \"0912345678\"\n",
    "    },\n",
    "    {\n",
    "        \"name\": \"Mary\",\n",
    "        \"age\": 42,\n",
    "        \"department\": \"BioInf\",\n",
    "        \"phone\": \"0987654321\"\n",
    "    }\n",
    "]\n",
    "\n",
    "# 新增多筆資料\n",
    "\n"
   ]
  },
  {
   "cell_type": "code",
   "execution_count": null,
   "metadata": {},
   "outputs": [],
   "source": [
    "# 更新資料\n",
    "\n"
   ]
  },
  {
   "cell_type": "code",
   "execution_count": null,
   "metadata": {},
   "outputs": [],
   "source": [
    "# 查詢多筆 - 用 age\n",
    "\n"
   ]
  },
  {
   "cell_type": "code",
   "execution_count": null,
   "metadata": {},
   "outputs": [],
   "source": [
    "# 刪除資料\n",
    "\n"
   ]
  },
  {
   "cell_type": "code",
   "execution_count": 1,
   "metadata": {},
   "outputs": [],
   "source": [
    "# 避免資料重複兩種處理方式\n",
    "user_info_list = [\n",
    "    {\n",
    "        \"name\": \"Kevin\",\n",
    "        \"age\": 25,\n",
    "        \"department\": \"BioInf\",\n",
    "        \"phone\": \"0912345678\"\n",
    "    },\n",
    "    {\n",
    "        \"name\": \"Mary\", \n",
    "        \"age\": 42,\n",
    "        \"department\": \"BioInf\",\n",
    "        \"phone\": \"0987654321\"\n",
    "    }\n",
    "]"
   ]
  },
  {
   "cell_type": "code",
   "execution_count": null,
   "metadata": {},
   "outputs": [],
   "source": [
    "# 1. 使用 update_one + upsert=True  (upsert: 更新插入)\n"
   ]
  },
  {
   "cell_type": "code",
   "execution_count": null,
   "metadata": {},
   "outputs": [],
   "source": [
    "# 2. 建立唯一索引後寫入\n"
   ]
  }
 ],
 "metadata": {
  "kernelspec": {
   "display_name": "ml_env",
   "language": "python",
   "name": "python3"
  },
  "language_info": {
   "codemirror_mode": {
    "name": "ipython",
    "version": 3
   },
   "file_extension": ".py",
   "mimetype": "text/x-python",
   "name": "python",
   "nbconvert_exporter": "python",
   "pygments_lexer": "ipython3",
   "version": "3.12.3"
  }
 },
 "nbformat": 4,
 "nbformat_minor": 2
}
